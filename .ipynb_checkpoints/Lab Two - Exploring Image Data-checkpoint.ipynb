{
 "cells": [
  {
   "cell_type": "markdown",
   "id": "06f178aa",
   "metadata": {},
   "source": [
    "# Exploring Image Data"
   ]
  },
  {
   "cell_type": "markdown",
   "id": "ac1dcb60",
   "metadata": {},
   "source": [
    "by: Mohammed Ahmed Abdelrazek Aboelela"
   ]
  },
  {
   "cell_type": "markdown",
   "id": "1232a560",
   "metadata": {},
   "source": [
    "You are to perform preprocessing and exploratory analysis of a data set: exploring the statistical summaries of the features, visualizing the attributes, and addressing data quality. This report is worth 10% of the final grade. Please upload a report (one per team) with all code used, visualizations, and text in a rendered Jupyter notebook. Any visualizations that cannot be embedded in the notebook, please provide screenshots of the output.\n",
    "\n",
    "Dataset requirements: Choose a dataset that is comprised of image data. The data should be directories of images. That is, the dataset should not yet be pre-processed. The following are required for the dataset:\n",
    "\n",
    "The data includes at least 1000 images\n",
    "\n",
    "The size of the images should be larger than 20x20 pixels \n",
    "\n",
    "The dataset should have a well defined prediction task (i.e., a label for each image)\n",
    "\n",
    "The dataset cannot be MNIST or Fashion MNIST \n",
    "\n",
    "A note on grading: This lab is mostly about visualizing and understanding your dataset. The largest share of the points is from how you interpret the visuals that you make. Making the visuals is not enough to satisfy each of the rubrics below—you should appropriately explain what the implications of the visualizations are. In other words, expect about 20% of the available points for visuals that have no substantive discussion. "
   ]
  },
  {
   "cell_type": "markdown",
   "id": "9e39484b",
   "metadata": {},
   "source": [
    "## Business Understanding"
   ]
  },
  {
   "cell_type": "markdown",
   "id": "5ecaad83",
   "metadata": {},
   "source": [
    "[2 points] Give an overview of the dataset. Describe the purpose of the data set you selected (i.e., why was this data collected in the first place?). What is the prediction task for your dataset and which third parties would be interested in the results? Why is this data important? Once you begin modeling, how well would your prediction algorithm need to perform to be considered useful to the identified third parties? Be specific and use your own words to describe the aspects of the data. "
   ]
  },
  {
   "cell_type": "markdown",
   "id": "52ed19ce",
   "metadata": {},
   "source": [
    "## Data Preparation"
   ]
  },
  {
   "cell_type": "markdown",
   "id": "f5e4b024",
   "metadata": {},
   "source": [
    "[.5 points] Read in your images as numpy arrays. Resize and recolor images as necessary. \n",
    "\n",
    "[.4 points] Linearize the images to create a table of 1-D image features (each row should be one image).   \n",
    "\n",
    "[.1 points] Visualize several images."
   ]
  },
  {
   "cell_type": "markdown",
   "id": "adf600be",
   "metadata": {},
   "source": [
    "## Data Reduction"
   ]
  },
  {
   "cell_type": "markdown",
   "id": "56cfac3d",
   "metadata": {},
   "source": [
    "### Dimensionality Reduction (PCA/rPCA)"
   ]
  },
  {
   "cell_type": "markdown",
   "id": "87b573c2",
   "metadata": {},
   "source": [
    "[.5 points] Perform linear dimensionality reduction of the images using principal components analysis. Visualize the explained variance of each component. Analyze how many dimensions are required to adequately represent your image data. Explain your analysis and conclusion.\n",
    "\n",
    "[.5 points] Perform linear dimensionality reduction of your image data using randomized principle components analysis. Visualize the explained variance of each component. Analyze how many dimensions are required to adequately represent your image data. Explain your analysis and conclusion."
   ]
  },
  {
   "cell_type": "markdown",
   "id": "428a0c6b",
   "metadata": {},
   "source": [
    "### PCA versus Random PCA Comparison"
   ]
  },
  {
   "cell_type": "markdown",
   "id": "d038b669",
   "metadata": {},
   "source": [
    "[2 points]  Compare the representation using PCA and Randomized PCA. The method you choose to compare dimensionality methods should quantitatively explain which method is better at representing the images with fewer components.  Do you prefer one method over another? Why?"
   ]
  },
  {
   "cell_type": "markdown",
   "id": "a10e41c3",
   "metadata": {},
   "source": [
    "### DAISY and Evaluation"
   ]
  },
  {
   "cell_type": "markdown",
   "id": "64d662c2",
   "metadata": {},
   "source": [
    "[1 points] Perform feature extraction upon the images using any feature extraction technique (e.g., gabor filters, ordered gradients, DAISY, etc.).\n",
    "\n",
    "[2 points] Does this feature extraction method show promise for your prediction task? Why? Use visualizations to analyze this questions. For example, visualize the differences between statistics of extracted features in each target class. Another option, use a heat map of the pairwise differences (ordered by class) among all extracted features. Another option, build a nearest neighbor classifier to see actual classification performance.  \n"
   ]
  },
  {
   "cell_type": "markdown",
   "id": "ecdeba5d",
   "metadata": {},
   "source": [
    "## Exceptional Credit"
   ]
  },
  {
   "cell_type": "markdown",
   "id": "7e798f20",
   "metadata": {},
   "source": [
    "You have free reign to provide any additional analyses. \n",
    "\n",
    "One idea (required for 7000 level students): Perform feature extraction upon the images using DAISY. Rather than using matching on the images with the total DAISY vector, you will instead use key point matching. You will need to investigate appropriate methods for key point matching using DAISY. NOTE: this often requires some type of brute force matching per pair of images, which can be computationally expensive."
   ]
  }
 ],
 "metadata": {
  "kernelspec": {
   "display_name": "Python 3 (ipykernel)",
   "language": "python",
   "name": "python3"
  },
  "language_info": {
   "codemirror_mode": {
    "name": "ipython",
    "version": 3
   },
   "file_extension": ".py",
   "mimetype": "text/x-python",
   "name": "python",
   "nbconvert_exporter": "python",
   "pygments_lexer": "ipython3",
   "version": "3.9.12"
  }
 },
 "nbformat": 4,
 "nbformat_minor": 5
}
